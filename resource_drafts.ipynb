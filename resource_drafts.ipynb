{
 "cells": [
  {
   "cell_type": "markdown",
   "id": "54de1f74-2871-4e8d-898f-9f5a105fa0ca",
   "metadata": {},
   "source": [
    "# Draft about mapping quantum circuits to resource estimations"
   ]
  },
  {
   "cell_type": "code",
   "execution_count": 1,
   "id": "cf2a1334-148a-43f8-b1d9-cb8568412f66",
   "metadata": {},
   "outputs": [
    {
     "name": "stdout",
     "output_type": "stream",
     "text": [
      "qubit_1\n"
     ]
    }
   ],
   "source": [
    "from discopy.quantum.circuit import qubit\n",
    "\n",
    "print(qubit(1))"
   ]
  },
  {
   "cell_type": "code",
   "execution_count": 2,
   "id": "72d6380e-504b-4152-87dd-8398d1e9b5c8",
   "metadata": {},
   "outputs": [
    {
     "name": "stdout",
     "output_type": "stream",
     "text": [
      "(cat.Ob('qubit_1'), cat.Ob('qubit_2'))\n",
      "(cat.Ob('qubit_1'), cat.Ob('qubit_2'))\n",
      "(cat.Ob('qubit_1'), cat.Ob('qubit_2'), cat.Ob('qubit_3'))\n",
      "(cat.Ob('qubit_1'), cat.Ob('qubit_2'))\n"
     ]
    },
    {
     "data": {
      "image/png": "[encoded data removed]",
      "text/plain": [
       "<Figure size 288x432 with 1 Axes>"
      ]
     },
     "metadata": {},
     "output_type": "display_data"
    }
   ],
   "source": [
    "from discopy.quantum import *\n",
    "\n",
    "qubits = [1, 2, 3]\n",
    "\n",
    "CCX = lambda x, y, z : Controlled(CX(x, y), qubits = [x, y, z])\n",
    "\n",
    "circuit = Controlled(Rz(1, 0.25), qubits = [1, 2]) @ Id(3, 1) >> S(1) @ X(2) @ T(3) >> H(1) @ H(2) @ H(3) >> CX(1, 2) @ Id(3, 1) >> CCX(1,2,3) >> Measure(measured_qubits = qubits) #S(1) @ X(2) @ T(3) >> H(1) @ H(2) @ H(3) >> Measure(measured_qubits = qubits) #CX(1, 2) @ Id(3, 1) #>> Controlled(Rz(1, 0.25), qubits = [1, 2]) @ Id(3, 1) >> CCX(1,2,3) >> Measure(measured_qubits = qubits)\n",
    "circuit.draw(figsize=(4, 6))"
   ]
  },
  {
   "cell_type": "code",
   "execution_count": 3,
   "id": "1841d3a2-ab21-4b8c-a2d0-7969121cba0a",
   "metadata": {},
   "outputs": [
    {
     "name": "stdout",
     "output_type": "stream",
     "text": [
      "{'factory': 'quantum.circuit.Ty', 'inside': [{'factory': 'quantum.circuit.Qudit', 'name': 'qubit_1'}]}\n",
      "{'factory': 'quantum.circuit.Ty', 'inside': [{'factory': 'quantum.circuit.Qudit', 'name': 'qubit_1'}]}\n",
      "{'factory': 'quantum.circuit.Ty', 'inside': [{'factory': 'quantum.circuit.Qudit', 'name': 'qubit_1'}]}\n",
      "{'factory': 'quantum.circuit.Ty', 'inside': [{'factory': 'quantum.circuit.Qudit', 'name': 'qubit_1'}]}\n",
      "{'factory': 'quantum.circuit.Ty', 'inside': [{'factory': 'quantum.circuit.Qudit', 'name': 'qubit_1'}]}\n",
      "{'factory': 'quantum.circuit.Ty', 'inside': [{'factory': 'quantum.circuit.Qudit', 'name': 'qubit_1'}]}\n",
      "{'factory': 'quantum.circuit.Ty', 'inside': [{'factory': 'quantum.circuit.Qudit', 'name': 'qubit_1'}]}\n",
      "{'factory': 'quantum.circuit.Ty', 'inside': [{'factory': 'quantum.circuit.Qudit', 'name': 'qubit_1'}]}\n",
      "{'factory': 'quantum.circuit.Ty', 'inside': [{'factory': 'quantum.circuit.Qudit', 'name': 'qubit_1'}]}\n",
      "{'factory': 'quantum.circuit.Ty', 'inside': [{'factory': 'quantum.circuit.Qudit', 'name': 'qubit_1'}]}\n"
     ]
    }
   ],
   "source": [
    "for e in circuit:\n",
    "    print(e.dom[0].to_tree())"
   ]
  },
  {
   "cell_type": "code",
   "execution_count": 4,
   "id": "8d899720-82a8-460d-9f99-4c3b0fd6fc11",
   "metadata": {},
   "outputs": [
    {
     "name": "stdout",
     "output_type": "stream",
     "text": [
      "qubit_1\n",
      "qubit_2\n",
      "qubit_3\n",
      "qubit_3\n"
     ]
    },
    {
     "ename": "AxiomError",
     "evalue": "Id(Ty()) does not compose with CRz(0.25): Ty() != qubit_1 @ qubit_2.",
     "output_type": "error",
     "traceback": [
      "\u001b[1;31m---------------------------------------------------------------------------\u001b[0m",
      "\u001b[1;31mAxiomError\u001b[0m                                Traceback (most recent call last)",
      "Input \u001b[1;32mIn [4]\u001b[0m, in \u001b[0;36m<module>\u001b[1;34m\u001b[0m\n\u001b[0;32m      6\u001b[0m     \u001b[38;5;28;01mreturn\u001b[39;00m m\n\u001b[0;32m      8\u001b[0m F \u001b[38;5;241m=\u001b[39m CircuitFunctor(object_mappinig, morphism_mapping)\n\u001b[1;32m---> 10\u001b[0m \u001b[43mF\u001b[49m\u001b[43m(\u001b[49m\u001b[43mcircuit\u001b[49m\u001b[43m)\u001b[49m\n",
      "File \u001b[1;32m~\\OneDrive - University of Helsinki\\Desktop\\discopy-for-resource-estimations\\discopy\\frobenius.py:243\u001b[0m, in \u001b[0;36mFunctor.__call__\u001b[1;34m(self, other)\u001b[0m\n\u001b[0;32m    240\u001b[0m \u001b[38;5;28;01mif\u001b[39;00m \u001b[38;5;28misinstance\u001b[39m(other, Spider):\n\u001b[0;32m    241\u001b[0m     \u001b[38;5;28;01mreturn\u001b[39;00m \u001b[38;5;28mself\u001b[39m\u001b[38;5;241m.\u001b[39mcod\u001b[38;5;241m.\u001b[39mar\u001b[38;5;241m.\u001b[39mspiders(\n\u001b[0;32m    242\u001b[0m         \u001b[38;5;28mlen\u001b[39m(other\u001b[38;5;241m.\u001b[39mdom), \u001b[38;5;28mlen\u001b[39m(other\u001b[38;5;241m.\u001b[39mcod), \u001b[38;5;28mself\u001b[39m(other\u001b[38;5;241m.\u001b[39mtyp))\n\u001b[1;32m--> 243\u001b[0m \u001b[38;5;28;01mreturn\u001b[39;00m \u001b[38;5;28;43msuper\u001b[39;49m\u001b[43m(\u001b[49m\u001b[43m)\u001b[49m\u001b[38;5;241;43m.\u001b[39;49m\u001b[38;5;21;43m__call__\u001b[39;49m\u001b[43m(\u001b[49m\u001b[43mother\u001b[49m\u001b[43m)\u001b[49m\n",
      "File \u001b[1;32m~\\OneDrive - University of Helsinki\\Desktop\\discopy-for-resource-estimations\\discopy\\compact.py:112\u001b[0m, in \u001b[0;36mFunctor.__call__\u001b[1;34m(self, other)\u001b[0m\n\u001b[0;32m    110\u001b[0m \u001b[38;5;28;01mif\u001b[39;00m \u001b[38;5;28misinstance\u001b[39m(other, Swap):\n\u001b[0;32m    111\u001b[0m     \u001b[38;5;28;01mreturn\u001b[39;00m symmetric\u001b[38;5;241m.\u001b[39mFunctor\u001b[38;5;241m.\u001b[39m\u001b[38;5;21m__call__\u001b[39m(\u001b[38;5;28mself\u001b[39m, other)\n\u001b[1;32m--> 112\u001b[0m \u001b[38;5;28;01mreturn\u001b[39;00m \u001b[43mribbon\u001b[49m\u001b[38;5;241;43m.\u001b[39;49m\u001b[43mFunctor\u001b[49m\u001b[38;5;241;43m.\u001b[39;49m\u001b[38;5;21;43m__call__\u001b[39;49m\u001b[43m(\u001b[49m\u001b[38;5;28;43mself\u001b[39;49m\u001b[43m,\u001b[49m\u001b[43m \u001b[49m\u001b[43mother\u001b[49m\u001b[43m)\u001b[49m\n",
      "File \u001b[1;32m~\\OneDrive - University of Helsinki\\Desktop\\discopy-for-resource-estimations\\discopy\\ribbon.py:227\u001b[0m, in \u001b[0;36mFunctor.__call__\u001b[1;34m(self, other)\u001b[0m\n\u001b[0;32m    225\u001b[0m \u001b[38;5;28;01mif\u001b[39;00m \u001b[38;5;28misinstance\u001b[39m(other, Braid):\n\u001b[0;32m    226\u001b[0m     \u001b[38;5;28;01mreturn\u001b[39;00m balanced\u001b[38;5;241m.\u001b[39mFunctor\u001b[38;5;241m.\u001b[39m\u001b[38;5;21m__call__\u001b[39m(\u001b[38;5;28mself\u001b[39m, other)\n\u001b[1;32m--> 227\u001b[0m \u001b[38;5;28;01mreturn\u001b[39;00m \u001b[43mpivotal\u001b[49m\u001b[38;5;241;43m.\u001b[39;49m\u001b[43mFunctor\u001b[49m\u001b[38;5;241;43m.\u001b[39;49m\u001b[38;5;21;43m__call__\u001b[39;49m\u001b[43m(\u001b[49m\u001b[38;5;28;43mself\u001b[39;49m\u001b[43m,\u001b[49m\u001b[43m \u001b[49m\u001b[43mother\u001b[49m\u001b[43m)\u001b[49m\n",
      "File \u001b[1;32m~\\OneDrive - University of Helsinki\\Desktop\\discopy-for-resource-estimations\\discopy\\rigid.py:754\u001b[0m, in \u001b[0;36mFunctor.__call__\u001b[1;34m(self, other)\u001b[0m\n\u001b[0;32m    752\u001b[0m         result \u001b[38;5;241m=\u001b[39m result\u001b[38;5;241m.\u001b[39ml \u001b[38;5;28;01mif\u001b[39;00m z \u001b[38;5;241m<\u001b[39m \u001b[38;5;241m0\u001b[39m \u001b[38;5;28;01melse\u001b[39;00m result\u001b[38;5;241m.\u001b[39mr\n\u001b[0;32m    753\u001b[0m     \u001b[38;5;28;01mreturn\u001b[39;00m result\n\u001b[1;32m--> 754\u001b[0m \u001b[38;5;28;01mreturn\u001b[39;00m \u001b[38;5;28;43msuper\u001b[39;49m\u001b[43m(\u001b[49m\u001b[43m)\u001b[49m\u001b[38;5;241;43m.\u001b[39;49m\u001b[38;5;21;43m__call__\u001b[39;49m\u001b[43m(\u001b[49m\u001b[43mother\u001b[49m\u001b[43m)\u001b[49m\n",
      "File \u001b[1;32m~\\OneDrive - University of Helsinki\\Desktop\\discopy-for-resource-estimations\\discopy\\closed.py:309\u001b[0m, in \u001b[0;36mFunctor.__call__\u001b[1;34m(self, other)\u001b[0m\n\u001b[0;32m    306\u001b[0m \u001b[38;5;28;01mif\u001b[39;00m \u001b[38;5;28misinstance\u001b[39m(other, Eval):\n\u001b[0;32m    307\u001b[0m     \u001b[38;5;28;01mreturn\u001b[39;00m \u001b[38;5;28mself\u001b[39m\u001b[38;5;241m.\u001b[39mcod\u001b[38;5;241m.\u001b[39mar\u001b[38;5;241m.\u001b[39mev(\n\u001b[0;32m    308\u001b[0m         \u001b[38;5;28mself\u001b[39m(other\u001b[38;5;241m.\u001b[39mbase), \u001b[38;5;28mself\u001b[39m(other\u001b[38;5;241m.\u001b[39mexponent), other\u001b[38;5;241m.\u001b[39mleft)\n\u001b[1;32m--> 309\u001b[0m \u001b[38;5;28;01mreturn\u001b[39;00m \u001b[38;5;28;43msuper\u001b[39;49m\u001b[43m(\u001b[49m\u001b[43m)\u001b[49m\u001b[38;5;241;43m.\u001b[39;49m\u001b[38;5;21;43m__call__\u001b[39;49m\u001b[43m(\u001b[49m\u001b[43mother\u001b[49m\u001b[43m)\u001b[49m\n",
      "File \u001b[1;32m~\\OneDrive - University of Helsinki\\Desktop\\discopy-for-resource-estimations\\discopy\\balanced.py:172\u001b[0m, in \u001b[0;36mFunctor.__call__\u001b[1;34m(self, other)\u001b[0m\n\u001b[0;32m    170\u001b[0m \u001b[38;5;28;01mif\u001b[39;00m \u001b[38;5;28misinstance\u001b[39m(other, Twist):\n\u001b[0;32m    171\u001b[0m     \u001b[38;5;28;01mreturn\u001b[39;00m \u001b[38;5;28mself\u001b[39m\u001b[38;5;241m.\u001b[39mcod\u001b[38;5;241m.\u001b[39mar\u001b[38;5;241m.\u001b[39mtwist(\u001b[38;5;28mself\u001b[39m(other\u001b[38;5;241m.\u001b[39mdom))\n\u001b[1;32m--> 172\u001b[0m \u001b[38;5;28;01mreturn\u001b[39;00m \u001b[38;5;28;43msuper\u001b[39;49m\u001b[43m(\u001b[49m\u001b[43m)\u001b[49m\u001b[38;5;241;43m.\u001b[39;49m\u001b[38;5;21;43m__call__\u001b[39;49m\u001b[43m(\u001b[49m\u001b[43mother\u001b[49m\u001b[43m)\u001b[49m\n",
      "File \u001b[1;32m~\\OneDrive - University of Helsinki\\Desktop\\discopy-for-resource-estimations\\discopy\\braided.py:229\u001b[0m, in \u001b[0;36mFunctor.__call__\u001b[1;34m(self, other)\u001b[0m\n\u001b[0;32m    227\u001b[0m \u001b[38;5;28;01mif\u001b[39;00m \u001b[38;5;28misinstance\u001b[39m(other, Braid) \u001b[38;5;129;01mand\u001b[39;00m \u001b[38;5;129;01mnot\u001b[39;00m other\u001b[38;5;241m.\u001b[39mis_dagger:\n\u001b[0;32m    228\u001b[0m     \u001b[38;5;28;01mreturn\u001b[39;00m \u001b[38;5;28mself\u001b[39m\u001b[38;5;241m.\u001b[39mcod\u001b[38;5;241m.\u001b[39mar\u001b[38;5;241m.\u001b[39mbraid(\u001b[38;5;28mself\u001b[39m(other\u001b[38;5;241m.\u001b[39mdom[\u001b[38;5;241m0\u001b[39m]), \u001b[38;5;28mself\u001b[39m(other\u001b[38;5;241m.\u001b[39mdom[\u001b[38;5;241m1\u001b[39m]))\n\u001b[1;32m--> 229\u001b[0m \u001b[38;5;28;01mreturn\u001b[39;00m \u001b[38;5;28;43msuper\u001b[39;49m\u001b[43m(\u001b[49m\u001b[43m)\u001b[49m\u001b[38;5;241;43m.\u001b[39;49m\u001b[38;5;21;43m__call__\u001b[39;49m\u001b[43m(\u001b[49m\u001b[43mother\u001b[49m\u001b[43m)\u001b[49m\n",
      "File \u001b[1;32m~\\OneDrive - University of Helsinki\\Desktop\\discopy-for-resource-estimations\\discopy\\monoidal.py:1008\u001b[0m, in \u001b[0;36mFunctor.__call__\u001b[1;34m(self, other)\u001b[0m\n\u001b[0;32m   1006\u001b[0m         result \u001b[38;5;241m=\u001b[39m result \u001b[38;5;241m@\u001b[39m \u001b[38;5;28mself\u001b[39m(box_or_typ)\n\u001b[0;32m   1007\u001b[0m     \u001b[38;5;28;01mreturn\u001b[39;00m result\n\u001b[1;32m-> 1008\u001b[0m \u001b[38;5;28;01mreturn\u001b[39;00m \u001b[38;5;28;43msuper\u001b[39;49m\u001b[43m(\u001b[49m\u001b[43m)\u001b[49m\u001b[38;5;241;43m.\u001b[39;49m\u001b[38;5;21;43m__call__\u001b[39;49m\u001b[43m(\u001b[49m\u001b[43mother\u001b[49m\u001b[43m)\u001b[49m\n",
      "File \u001b[1;32m~\\OneDrive - University of Helsinki\\Desktop\\discopy-for-resource-estimations\\discopy\\cat.py:954\u001b[0m, in \u001b[0;36mFunctor.__call__\u001b[1;34m(self, other)\u001b[0m\n\u001b[0;32m    952\u001b[0m result \u001b[38;5;241m=\u001b[39m \u001b[38;5;28mself\u001b[39m\u001b[38;5;241m.\u001b[39mcod\u001b[38;5;241m.\u001b[39mar\u001b[38;5;241m.\u001b[39mid(\u001b[38;5;28mself\u001b[39m(other\u001b[38;5;241m.\u001b[39mdom))\n\u001b[0;32m    953\u001b[0m \u001b[38;5;28;01mfor\u001b[39;00m box \u001b[38;5;129;01min\u001b[39;00m other\u001b[38;5;241m.\u001b[39minside:\n\u001b[1;32m--> 954\u001b[0m     result \u001b[38;5;241m=\u001b[39m \u001b[43mresult\u001b[49m\u001b[43m \u001b[49m\u001b[38;5;241;43m>>\u001b[39;49m\u001b[43m \u001b[49m\u001b[38;5;28;43mself\u001b[39;49m\u001b[43m(\u001b[49m\u001b[43mbox\u001b[49m\u001b[43m)\u001b[49m\n\u001b[0;32m    955\u001b[0m \u001b[38;5;28;01mreturn\u001b[39;00m result\n",
      "File \u001b[1;32m~\\OneDrive - University of Helsinki\\Desktop\\discopy-for-resource-estimations\\discopy\\cat.py:209\u001b[0m, in \u001b[0;36mComposable.<lambda>\u001b[1;34m(self, other)\u001b[0m\n\u001b[0;32m    200\u001b[0m     \u001b[38;5;124;03m\"\"\"\u001b[39;00m\n\u001b[0;32m    201\u001b[0m \u001b[38;5;124;03m    Whether two composable objects are parallel, i.e. they have the same\u001b[39;00m\n\u001b[0;32m    202\u001b[0m \u001b[38;5;124;03m    domain and codomain.\u001b[39;00m\n\u001b[1;32m   (...)\u001b[0m\n\u001b[0;32m    205\u001b[0m \u001b[38;5;124;03m        other : The other composable object.\u001b[39;00m\n\u001b[0;32m    206\u001b[0m \u001b[38;5;124;03m    \"\"\"\u001b[39;00m\n\u001b[0;32m    207\u001b[0m     \u001b[38;5;28;01mreturn\u001b[39;00m (\u001b[38;5;28mself\u001b[39m\u001b[38;5;241m.\u001b[39mdom, \u001b[38;5;28mself\u001b[39m\u001b[38;5;241m.\u001b[39mcod) \u001b[38;5;241m==\u001b[39m (other\u001b[38;5;241m.\u001b[39mdom, other\u001b[38;5;241m.\u001b[39mcod)\n\u001b[1;32m--> 209\u001b[0m \u001b[38;5;21m__rshift__\u001b[39m \u001b[38;5;241m=\u001b[39m __llshift__ \u001b[38;5;241m=\u001b[39m \u001b[38;5;28;01mlambda\u001b[39;00m \u001b[38;5;28mself\u001b[39m, other: \u001b[38;5;28;43mself\u001b[39;49m\u001b[38;5;241;43m.\u001b[39;49m\u001b[43mthen\u001b[49m\u001b[43m(\u001b[49m\u001b[43mother\u001b[49m\u001b[43m)\u001b[49m\n\u001b[0;32m    210\u001b[0m \u001b[38;5;21m__lshift__\u001b[39m \u001b[38;5;241m=\u001b[39m __lrshift__ \u001b[38;5;241m=\u001b[39m \u001b[38;5;28;01mlambda\u001b[39;00m \u001b[38;5;28mself\u001b[39m, other: other\u001b[38;5;241m.\u001b[39mthen(\u001b[38;5;28mself\u001b[39m)\n",
      "File \u001b[1;32m~\\OneDrive - University of Helsinki\\Desktop\\discopy-for-resource-estimations\\discopy\\cat.py:404\u001b[0m, in \u001b[0;36mArrow.then\u001b[1;34m(self, *others)\u001b[0m\n\u001b[0;32m    402\u001b[0m     assert_isinstance(\u001b[38;5;28mself\u001b[39m, other\u001b[38;5;241m.\u001b[39mfactory)\n\u001b[0;32m    403\u001b[0m     inside, cod \u001b[38;5;241m=\u001b[39m inside \u001b[38;5;241m+\u001b[39m other\u001b[38;5;241m.\u001b[39minside, other\u001b[38;5;241m.\u001b[39mcod\n\u001b[1;32m--> 404\u001b[0m \u001b[38;5;28;01mreturn\u001b[39;00m \u001b[38;5;28;43mself\u001b[39;49m\u001b[38;5;241;43m.\u001b[39;49m\u001b[43mfactory\u001b[49m\u001b[43m(\u001b[49m\u001b[43minside\u001b[49m\u001b[43m,\u001b[49m\u001b[43m \u001b[49m\u001b[43mdom\u001b[49m\u001b[43m,\u001b[49m\u001b[43m \u001b[49m\u001b[43mcod\u001b[49m\u001b[43m)\u001b[49m\n",
      "File \u001b[1;32m~\\OneDrive - University of Helsinki\\Desktop\\discopy-for-resource-estimations\\discopy\\monoidal.py:502\u001b[0m, in \u001b[0;36mDiagram.__init__\u001b[1;34m(self, inside, dom, cod, _scan)\u001b[0m\n\u001b[0;32m    500\u001b[0m \u001b[38;5;28;01mfor\u001b[39;00m layer \u001b[38;5;129;01min\u001b[39;00m inside:\n\u001b[0;32m    501\u001b[0m     assert_isinstance(layer, Layer)\n\u001b[1;32m--> 502\u001b[0m \u001b[38;5;28;43msuper\u001b[39;49m\u001b[43m(\u001b[49m\u001b[43m)\u001b[49m\u001b[38;5;241;43m.\u001b[39;49m\u001b[38;5;21;43m__init__\u001b[39;49m\u001b[43m(\u001b[49m\u001b[43minside\u001b[49m\u001b[43m,\u001b[49m\u001b[43m \u001b[49m\u001b[43mdom\u001b[49m\u001b[43m,\u001b[49m\u001b[43m \u001b[49m\u001b[43mcod\u001b[49m\u001b[43m,\u001b[49m\u001b[43m \u001b[49m\u001b[43m_scan\u001b[49m\u001b[38;5;241;43m=\u001b[39;49m\u001b[43m_scan\u001b[49m\u001b[43m)\u001b[49m\n",
      "File \u001b[1;32m~\\OneDrive - University of Helsinki\\Desktop\\discopy-for-resource-estimations\\discopy\\cat.py:312\u001b[0m, in \u001b[0;36mArrow.__init__\u001b[1;34m(self, inside, dom, cod, _scan)\u001b[0m\n\u001b[0;32m    310\u001b[0m     assert_isinstance(box, Box)\n\u001b[0;32m    311\u001b[0m \u001b[38;5;28;01mfor\u001b[39;00m f, g \u001b[38;5;129;01min\u001b[39;00m \u001b[38;5;28mzip\u001b[39m((Id(dom), ) \u001b[38;5;241m+\u001b[39m inside, inside \u001b[38;5;241m+\u001b[39m (Id(cod), )):\n\u001b[1;32m--> 312\u001b[0m     \u001b[43massert_iscomposable\u001b[49m\u001b[43m(\u001b[49m\u001b[43mf\u001b[49m\u001b[43m,\u001b[49m\u001b[43m \u001b[49m\u001b[43mg\u001b[49m\u001b[43m)\u001b[49m\n",
      "File \u001b[1;32m~\\OneDrive - University of Helsinki\\Desktop\\discopy-for-resource-estimations\\discopy\\cat.py:968\u001b[0m, in \u001b[0;36massert_iscomposable\u001b[1;34m(left, right)\u001b[0m\n\u001b[0;32m    959\u001b[0m \u001b[38;5;124;03m\"\"\"\u001b[39;00m\n\u001b[0;32m    960\u001b[0m \u001b[38;5;124;03mRaise :class:`AxiomError` if two objects are not composable,\u001b[39;00m\n\u001b[0;32m    961\u001b[0m \u001b[38;5;124;03mi.e. the domain of ``other`` is not the codomain of ``self``.\u001b[39;00m\n\u001b[1;32m   (...)\u001b[0m\n\u001b[0;32m    965\u001b[0m \u001b[38;5;124;03m    right : Another composable object.\u001b[39;00m\n\u001b[0;32m    966\u001b[0m \u001b[38;5;124;03m\"\"\"\u001b[39;00m\n\u001b[0;32m    967\u001b[0m \u001b[38;5;28;01mif\u001b[39;00m \u001b[38;5;129;01mnot\u001b[39;00m left\u001b[38;5;241m.\u001b[39mis_composable(right):\n\u001b[1;32m--> 968\u001b[0m     \u001b[38;5;28;01mraise\u001b[39;00m AxiomError(messages\u001b[38;5;241m.\u001b[39mNOT_COMPOSABLE\u001b[38;5;241m.\u001b[39mformat(\n\u001b[0;32m    969\u001b[0m         left, right, left\u001b[38;5;241m.\u001b[39mcod, right\u001b[38;5;241m.\u001b[39mdom))\n",
      "\u001b[1;31mAxiomError\u001b[0m: Id(Ty()) does not compose with CRz(0.25): Ty() != qubit_1 @ qubit_2."
     ]
    }
   ],
   "source": [
    "def object_mappinig(o):\n",
    "    print(o)\n",
    "    return o\n",
    "\n",
    "def morphism_mapping(m):\n",
    "    return m\n",
    "\n",
    "F = CircuitFunctor(object_mappinig, morphism_mapping)\n",
    "\n",
    "F(circuit)"
   ]
  },
  {
   "cell_type": "code",
   "execution_count": null,
   "id": "95993cd4-cd9f-4910-9740-a6fb2546bb02",
   "metadata": {},
   "outputs": [],
   "source": [
    "print(F(qubit))"
   ]
  },
  {
   "cell_type": "code",
   "execution_count": null,
   "id": "a676b220-f599-4bcb-8041-6802c1fb6b44",
   "metadata": {},
   "outputs": [],
   "source": []
  }
 ],
 "metadata": {
  "kernelspec": {
   "display_name": "venv",
   "language": "python",
   "name": "venv"
  },
  "language_info": {
   "codemirror_mode": {
    "name": "ipython",
    "version": 3
   },
   "file_extension": ".py",
   "mimetype": "text/x-python",
   "name": "python",
   "nbconvert_exporter": "python",
   "pygments_lexer": "ipython3",
   "version": "3.10.8"
  }
 },
 "nbformat": 4,
 "nbformat_minor": 5
}
