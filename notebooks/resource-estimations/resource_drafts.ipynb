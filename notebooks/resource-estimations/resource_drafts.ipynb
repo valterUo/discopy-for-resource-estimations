{
 "cells": [
  {
   "cell_type": "markdown",
   "id": "54de1f74-2871-4e8d-898f-9f5a105fa0ca",
   "metadata": {},
   "source": [
    "# Draft about mapping quantum circuits to resource estimations"
   ]
  },
  {
   "cell_type": "code",
   "execution_count": 1,
   "id": "72d6380e-504b-4152-87dd-8398d1e9b5c8",
   "metadata": {},
   "outputs": [
    {
     "data": {
      "image/png": "[encoded data removed]",
      "text/plain": [
       "<Figure size 288x432 with 1 Axes>"
      ]
     },
     "metadata": {},
     "output_type": "display_data"
    }
   ],
   "source": [
    "from discopy.quantum import *\n",
    "\n",
    "CCX = Controlled(CX)\n",
    "\n",
    "circuit = CX @ Id(1) >> Controlled(Rz(0.25)) @ Id(1) >> CCX >> Measure(3)\n",
    "circuit.draw(figsize=(4, 6))"
   ]
  },
  {
   "cell_type": "code",
   "execution_count": 2,
   "id": "dc046ce2-1db0-4d73-91f6-53030b2a877f",
   "metadata": {},
   "outputs": [
    {
     "data": {
      "text/plain": [
       "qubit"
      ]
     },
     "execution_count": 2,
     "metadata": {},
     "output_type": "execute_result"
    }
   ],
   "source": [
    "from discopy.quantum.circuit import Qudit\n",
    "\n",
    "Qudit(2, 1)"
   ]
  },
  {
   "cell_type": "code",
   "execution_count": 3,
   "id": "1841d3a2-ab21-4b8c-a2d0-7969121cba0a",
   "metadata": {},
   "outputs": [
    {
     "name": "stdout",
     "output_type": "stream",
     "text": [
      "{'factory': 'discopy.quantum.circuit.Qudit', 'name': 'qubit'}\n",
      "{'factory': 'discopy.quantum.circuit.Qudit', 'name': 'qubit'}\n",
      "{'factory': 'discopy.quantum.circuit.Qudit', 'name': 'qubit'}\n",
      "{'factory': 'discopy.quantum.circuit.Qudit', 'name': 'qubit'}\n"
     ]
    }
   ],
   "source": [
    "for e in circuit:\n",
    "    print(e.dom[0].to_tree())"
   ]
  },
  {
   "cell_type": "code",
   "execution_count": 4,
   "id": "8d899720-82a8-460d-9f99-4c3b0fd6fc11",
   "metadata": {},
   "outputs": [
    {
     "name": "stdout",
     "output_type": "stream",
     "text": [
      "qubit\n",
      "qubit\n",
      "qubit\n",
      "qubit\n",
      "qubit\n"
     ]
    },
    {
     "data": {
      "text/plain": [
       "Circuit(dom=qubit @ qubit @ qubit, cod=bit @ bit @ bit, boxes=[CX, Controlled(Rz(0.25), distance=1), Controlled(CX, distance=1), Measure(3)], offsets=[0, 0, 0, 0])"
      ]
     },
     "execution_count": 4,
     "metadata": {},
     "output_type": "execute_result"
    }
   ],
   "source": [
    "def object_mappinig(o):\n",
    "    print(o)\n",
    "    return o\n",
    "\n",
    "def morphism_mapping(m):\n",
    "    return m\n",
    "\n",
    "F = CircuitFunctor(object_mappinig, morphism_mapping)\n",
    "\n",
    "F(circuit)"
   ]
  },
  {
   "cell_type": "code",
   "execution_count": 5,
   "id": "95993cd4-cd9f-4910-9740-a6fb2546bb02",
   "metadata": {},
   "outputs": [
    {
     "name": "stdout",
     "output_type": "stream",
     "text": [
      "qubit\n",
      "qubit\n"
     ]
    }
   ],
   "source": [
    "print(F(qubit))"
   ]
  },
  {
   "cell_type": "code",
   "execution_count": null,
   "id": "a676b220-f599-4bcb-8041-6802c1fb6b44",
   "metadata": {},
   "outputs": [],
   "source": []
  }
 ],
 "metadata": {
  "kernelspec": {
   "display_name": "venv",
   "language": "python",
   "name": "venv"
  },
  "language_info": {
   "codemirror_mode": {
    "name": "ipython",
    "version": 3
   },
   "file_extension": ".py",
   "mimetype": "text/x-python",
   "name": "python",
   "nbconvert_exporter": "python",
   "pygments_lexer": "ipython3",
   "version": "3.10.8"
  }
 },
 "nbformat": 4,
 "nbformat_minor": 5
}
